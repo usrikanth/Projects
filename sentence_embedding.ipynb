{
  "nbformat": 4,
  "nbformat_minor": 0,
  "metadata": {
    "colab": {
      "name": "sentence_embedding.ipynb",
      "provenance": [],
      "authorship_tag": "ABX9TyMHZpF3nkpty+a+H/sQoNz3",
      "include_colab_link": true
    },
    "kernelspec": {
      "name": "python3",
      "display_name": "Python 3"
    },
    "widgets": {
      "application/vnd.jupyter.widget-state+json": {
        "c5e4c8dc68874cec94e089929912fc0a": {
          "model_module": "@jupyter-widgets/controls",
          "model_name": "HBoxModel",
          "state": {
            "_view_name": "HBoxView",
            "_dom_classes": [],
            "_model_name": "HBoxModel",
            "_view_module": "@jupyter-widgets/controls",
            "_model_module_version": "1.5.0",
            "_view_count": null,
            "_view_module_version": "1.5.0",
            "box_style": "",
            "layout": "IPY_MODEL_3fe66109c6e443a2877cdedb460e4b4b",
            "_model_module": "@jupyter-widgets/controls",
            "children": [
              "IPY_MODEL_f9b5363761494397a41d03d7bfdcc639",
              "IPY_MODEL_627ad1bc23be4a7580c5dd884621bf8d"
            ]
          }
        },
        "3fe66109c6e443a2877cdedb460e4b4b": {
          "model_module": "@jupyter-widgets/base",
          "model_name": "LayoutModel",
          "state": {
            "_view_name": "LayoutView",
            "grid_template_rows": null,
            "right": null,
            "justify_content": null,
            "_view_module": "@jupyter-widgets/base",
            "overflow": null,
            "_model_module_version": "1.2.0",
            "_view_count": null,
            "flex_flow": null,
            "width": null,
            "min_width": null,
            "border": null,
            "align_items": null,
            "bottom": null,
            "_model_module": "@jupyter-widgets/base",
            "top": null,
            "grid_column": null,
            "overflow_y": null,
            "overflow_x": null,
            "grid_auto_flow": null,
            "grid_area": null,
            "grid_template_columns": null,
            "flex": null,
            "_model_name": "LayoutModel",
            "justify_items": null,
            "grid_row": null,
            "max_height": null,
            "align_content": null,
            "visibility": null,
            "align_self": null,
            "height": null,
            "min_height": null,
            "padding": null,
            "grid_auto_rows": null,
            "grid_gap": null,
            "max_width": null,
            "order": null,
            "_view_module_version": "1.2.0",
            "grid_template_areas": null,
            "object_position": null,
            "object_fit": null,
            "grid_auto_columns": null,
            "margin": null,
            "display": null,
            "left": null
          }
        },
        "f9b5363761494397a41d03d7bfdcc639": {
          "model_module": "@jupyter-widgets/controls",
          "model_name": "FloatProgressModel",
          "state": {
            "_view_name": "ProgressView",
            "style": "IPY_MODEL_ecda0d06b4964e559d23b84063576a3b",
            "_dom_classes": [],
            "description": "Downloading: 100%",
            "_model_name": "FloatProgressModel",
            "bar_style": "success",
            "max": 231508,
            "_view_module": "@jupyter-widgets/controls",
            "_model_module_version": "1.5.0",
            "value": 231508,
            "_view_count": null,
            "_view_module_version": "1.5.0",
            "orientation": "horizontal",
            "min": 0,
            "description_tooltip": null,
            "_model_module": "@jupyter-widgets/controls",
            "layout": "IPY_MODEL_48c2585234f94d14b9797b7c5a888fe0"
          }
        },
        "627ad1bc23be4a7580c5dd884621bf8d": {
          "model_module": "@jupyter-widgets/controls",
          "model_name": "HTMLModel",
          "state": {
            "_view_name": "HTMLView",
            "style": "IPY_MODEL_d0911c2deb5945949bff4a89babd16b3",
            "_dom_classes": [],
            "description": "",
            "_model_name": "HTMLModel",
            "placeholder": "​",
            "_view_module": "@jupyter-widgets/controls",
            "_model_module_version": "1.5.0",
            "value": " 232k/232k [00:00&lt;00:00, 618kB/s]",
            "_view_count": null,
            "_view_module_version": "1.5.0",
            "description_tooltip": null,
            "_model_module": "@jupyter-widgets/controls",
            "layout": "IPY_MODEL_c5594bce180849a1a5c82f0bdcd9c8be"
          }
        },
        "ecda0d06b4964e559d23b84063576a3b": {
          "model_module": "@jupyter-widgets/controls",
          "model_name": "ProgressStyleModel",
          "state": {
            "_view_name": "StyleView",
            "_model_name": "ProgressStyleModel",
            "description_width": "initial",
            "_view_module": "@jupyter-widgets/base",
            "_model_module_version": "1.5.0",
            "_view_count": null,
            "_view_module_version": "1.2.0",
            "bar_color": null,
            "_model_module": "@jupyter-widgets/controls"
          }
        },
        "48c2585234f94d14b9797b7c5a888fe0": {
          "model_module": "@jupyter-widgets/base",
          "model_name": "LayoutModel",
          "state": {
            "_view_name": "LayoutView",
            "grid_template_rows": null,
            "right": null,
            "justify_content": null,
            "_view_module": "@jupyter-widgets/base",
            "overflow": null,
            "_model_module_version": "1.2.0",
            "_view_count": null,
            "flex_flow": null,
            "width": null,
            "min_width": null,
            "border": null,
            "align_items": null,
            "bottom": null,
            "_model_module": "@jupyter-widgets/base",
            "top": null,
            "grid_column": null,
            "overflow_y": null,
            "overflow_x": null,
            "grid_auto_flow": null,
            "grid_area": null,
            "grid_template_columns": null,
            "flex": null,
            "_model_name": "LayoutModel",
            "justify_items": null,
            "grid_row": null,
            "max_height": null,
            "align_content": null,
            "visibility": null,
            "align_self": null,
            "height": null,
            "min_height": null,
            "padding": null,
            "grid_auto_rows": null,
            "grid_gap": null,
            "max_width": null,
            "order": null,
            "_view_module_version": "1.2.0",
            "grid_template_areas": null,
            "object_position": null,
            "object_fit": null,
            "grid_auto_columns": null,
            "margin": null,
            "display": null,
            "left": null
          }
        },
        "d0911c2deb5945949bff4a89babd16b3": {
          "model_module": "@jupyter-widgets/controls",
          "model_name": "DescriptionStyleModel",
          "state": {
            "_view_name": "StyleView",
            "_model_name": "DescriptionStyleModel",
            "description_width": "",
            "_view_module": "@jupyter-widgets/base",
            "_model_module_version": "1.5.0",
            "_view_count": null,
            "_view_module_version": "1.2.0",
            "_model_module": "@jupyter-widgets/controls"
          }
        },
        "c5594bce180849a1a5c82f0bdcd9c8be": {
          "model_module": "@jupyter-widgets/base",
          "model_name": "LayoutModel",
          "state": {
            "_view_name": "LayoutView",
            "grid_template_rows": null,
            "right": null,
            "justify_content": null,
            "_view_module": "@jupyter-widgets/base",
            "overflow": null,
            "_model_module_version": "1.2.0",
            "_view_count": null,
            "flex_flow": null,
            "width": null,
            "min_width": null,
            "border": null,
            "align_items": null,
            "bottom": null,
            "_model_module": "@jupyter-widgets/base",
            "top": null,
            "grid_column": null,
            "overflow_y": null,
            "overflow_x": null,
            "grid_auto_flow": null,
            "grid_area": null,
            "grid_template_columns": null,
            "flex": null,
            "_model_name": "LayoutModel",
            "justify_items": null,
            "grid_row": null,
            "max_height": null,
            "align_content": null,
            "visibility": null,
            "align_self": null,
            "height": null,
            "min_height": null,
            "padding": null,
            "grid_auto_rows": null,
            "grid_gap": null,
            "max_width": null,
            "order": null,
            "_view_module_version": "1.2.0",
            "grid_template_areas": null,
            "object_position": null,
            "object_fit": null,
            "grid_auto_columns": null,
            "margin": null,
            "display": null,
            "left": null
          }
        },
        "a279efed14424c1fb621e44846bd9fe3": {
          "model_module": "@jupyter-widgets/controls",
          "model_name": "HBoxModel",
          "state": {
            "_view_name": "HBoxView",
            "_dom_classes": [],
            "_model_name": "HBoxModel",
            "_view_module": "@jupyter-widgets/controls",
            "_model_module_version": "1.5.0",
            "_view_count": null,
            "_view_module_version": "1.5.0",
            "box_style": "",
            "layout": "IPY_MODEL_9e2c18e846fb40f98ec9eb7a0fd3e696",
            "_model_module": "@jupyter-widgets/controls",
            "children": [
              "IPY_MODEL_01f12828f8b2475c912dd80f0484bed8",
              "IPY_MODEL_5b826501259546ac9f07ac35f6c43fa0"
            ]
          }
        },
        "9e2c18e846fb40f98ec9eb7a0fd3e696": {
          "model_module": "@jupyter-widgets/base",
          "model_name": "LayoutModel",
          "state": {
            "_view_name": "LayoutView",
            "grid_template_rows": null,
            "right": null,
            "justify_content": null,
            "_view_module": "@jupyter-widgets/base",
            "overflow": null,
            "_model_module_version": "1.2.0",
            "_view_count": null,
            "flex_flow": null,
            "width": null,
            "min_width": null,
            "border": null,
            "align_items": null,
            "bottom": null,
            "_model_module": "@jupyter-widgets/base",
            "top": null,
            "grid_column": null,
            "overflow_y": null,
            "overflow_x": null,
            "grid_auto_flow": null,
            "grid_area": null,
            "grid_template_columns": null,
            "flex": null,
            "_model_name": "LayoutModel",
            "justify_items": null,
            "grid_row": null,
            "max_height": null,
            "align_content": null,
            "visibility": null,
            "align_self": null,
            "height": null,
            "min_height": null,
            "padding": null,
            "grid_auto_rows": null,
            "grid_gap": null,
            "max_width": null,
            "order": null,
            "_view_module_version": "1.2.0",
            "grid_template_areas": null,
            "object_position": null,
            "object_fit": null,
            "grid_auto_columns": null,
            "margin": null,
            "display": null,
            "left": null
          }
        },
        "01f12828f8b2475c912dd80f0484bed8": {
          "model_module": "@jupyter-widgets/controls",
          "model_name": "FloatProgressModel",
          "state": {
            "_view_name": "ProgressView",
            "style": "IPY_MODEL_736382c9308f41ffa00e9465ecf27e97",
            "_dom_classes": [],
            "description": "Downloading: 100%",
            "_model_name": "FloatProgressModel",
            "bar_style": "success",
            "max": 433,
            "_view_module": "@jupyter-widgets/controls",
            "_model_module_version": "1.5.0",
            "value": 433,
            "_view_count": null,
            "_view_module_version": "1.5.0",
            "orientation": "horizontal",
            "min": 0,
            "description_tooltip": null,
            "_model_module": "@jupyter-widgets/controls",
            "layout": "IPY_MODEL_fb42f7e79ee5439cb9a9a5673b74a6ea"
          }
        },
        "5b826501259546ac9f07ac35f6c43fa0": {
          "model_module": "@jupyter-widgets/controls",
          "model_name": "HTMLModel",
          "state": {
            "_view_name": "HTMLView",
            "style": "IPY_MODEL_03f420e7673a4983bbdaa4d855fb4647",
            "_dom_classes": [],
            "description": "",
            "_model_name": "HTMLModel",
            "placeholder": "​",
            "_view_module": "@jupyter-widgets/controls",
            "_model_module_version": "1.5.0",
            "value": " 433/433 [00:00&lt;00:00, 1.40kB/s]",
            "_view_count": null,
            "_view_module_version": "1.5.0",
            "description_tooltip": null,
            "_model_module": "@jupyter-widgets/controls",
            "layout": "IPY_MODEL_45df1b636b9b42a39afb2a9fdac91f6e"
          }
        },
        "736382c9308f41ffa00e9465ecf27e97": {
          "model_module": "@jupyter-widgets/controls",
          "model_name": "ProgressStyleModel",
          "state": {
            "_view_name": "StyleView",
            "_model_name": "ProgressStyleModel",
            "description_width": "initial",
            "_view_module": "@jupyter-widgets/base",
            "_model_module_version": "1.5.0",
            "_view_count": null,
            "_view_module_version": "1.2.0",
            "bar_color": null,
            "_model_module": "@jupyter-widgets/controls"
          }
        },
        "fb42f7e79ee5439cb9a9a5673b74a6ea": {
          "model_module": "@jupyter-widgets/base",
          "model_name": "LayoutModel",
          "state": {
            "_view_name": "LayoutView",
            "grid_template_rows": null,
            "right": null,
            "justify_content": null,
            "_view_module": "@jupyter-widgets/base",
            "overflow": null,
            "_model_module_version": "1.2.0",
            "_view_count": null,
            "flex_flow": null,
            "width": null,
            "min_width": null,
            "border": null,
            "align_items": null,
            "bottom": null,
            "_model_module": "@jupyter-widgets/base",
            "top": null,
            "grid_column": null,
            "overflow_y": null,
            "overflow_x": null,
            "grid_auto_flow": null,
            "grid_area": null,
            "grid_template_columns": null,
            "flex": null,
            "_model_name": "LayoutModel",
            "justify_items": null,
            "grid_row": null,
            "max_height": null,
            "align_content": null,
            "visibility": null,
            "align_self": null,
            "height": null,
            "min_height": null,
            "padding": null,
            "grid_auto_rows": null,
            "grid_gap": null,
            "max_width": null,
            "order": null,
            "_view_module_version": "1.2.0",
            "grid_template_areas": null,
            "object_position": null,
            "object_fit": null,
            "grid_auto_columns": null,
            "margin": null,
            "display": null,
            "left": null
          }
        },
        "03f420e7673a4983bbdaa4d855fb4647": {
          "model_module": "@jupyter-widgets/controls",
          "model_name": "DescriptionStyleModel",
          "state": {
            "_view_name": "StyleView",
            "_model_name": "DescriptionStyleModel",
            "description_width": "",
            "_view_module": "@jupyter-widgets/base",
            "_model_module_version": "1.5.0",
            "_view_count": null,
            "_view_module_version": "1.2.0",
            "_model_module": "@jupyter-widgets/controls"
          }
        },
        "45df1b636b9b42a39afb2a9fdac91f6e": {
          "model_module": "@jupyter-widgets/base",
          "model_name": "LayoutModel",
          "state": {
            "_view_name": "LayoutView",
            "grid_template_rows": null,
            "right": null,
            "justify_content": null,
            "_view_module": "@jupyter-widgets/base",
            "overflow": null,
            "_model_module_version": "1.2.0",
            "_view_count": null,
            "flex_flow": null,
            "width": null,
            "min_width": null,
            "border": null,
            "align_items": null,
            "bottom": null,
            "_model_module": "@jupyter-widgets/base",
            "top": null,
            "grid_column": null,
            "overflow_y": null,
            "overflow_x": null,
            "grid_auto_flow": null,
            "grid_area": null,
            "grid_template_columns": null,
            "flex": null,
            "_model_name": "LayoutModel",
            "justify_items": null,
            "grid_row": null,
            "max_height": null,
            "align_content": null,
            "visibility": null,
            "align_self": null,
            "height": null,
            "min_height": null,
            "padding": null,
            "grid_auto_rows": null,
            "grid_gap": null,
            "max_width": null,
            "order": null,
            "_view_module_version": "1.2.0",
            "grid_template_areas": null,
            "object_position": null,
            "object_fit": null,
            "grid_auto_columns": null,
            "margin": null,
            "display": null,
            "left": null
          }
        },
        "d485d697ed5c470a8252caf9817c0193": {
          "model_module": "@jupyter-widgets/controls",
          "model_name": "HBoxModel",
          "state": {
            "_view_name": "HBoxView",
            "_dom_classes": [],
            "_model_name": "HBoxModel",
            "_view_module": "@jupyter-widgets/controls",
            "_model_module_version": "1.5.0",
            "_view_count": null,
            "_view_module_version": "1.5.0",
            "box_style": "",
            "layout": "IPY_MODEL_6b4651f99f3741a3b37cd03b0cd2b084",
            "_model_module": "@jupyter-widgets/controls",
            "children": [
              "IPY_MODEL_f41c849c971245e396cc94fabd9e036e",
              "IPY_MODEL_422d933be1f14c11bf1d637e12e94782"
            ]
          }
        },
        "6b4651f99f3741a3b37cd03b0cd2b084": {
          "model_module": "@jupyter-widgets/base",
          "model_name": "LayoutModel",
          "state": {
            "_view_name": "LayoutView",
            "grid_template_rows": null,
            "right": null,
            "justify_content": null,
            "_view_module": "@jupyter-widgets/base",
            "overflow": null,
            "_model_module_version": "1.2.0",
            "_view_count": null,
            "flex_flow": null,
            "width": null,
            "min_width": null,
            "border": null,
            "align_items": null,
            "bottom": null,
            "_model_module": "@jupyter-widgets/base",
            "top": null,
            "grid_column": null,
            "overflow_y": null,
            "overflow_x": null,
            "grid_auto_flow": null,
            "grid_area": null,
            "grid_template_columns": null,
            "flex": null,
            "_model_name": "LayoutModel",
            "justify_items": null,
            "grid_row": null,
            "max_height": null,
            "align_content": null,
            "visibility": null,
            "align_self": null,
            "height": null,
            "min_height": null,
            "padding": null,
            "grid_auto_rows": null,
            "grid_gap": null,
            "max_width": null,
            "order": null,
            "_view_module_version": "1.2.0",
            "grid_template_areas": null,
            "object_position": null,
            "object_fit": null,
            "grid_auto_columns": null,
            "margin": null,
            "display": null,
            "left": null
          }
        },
        "f41c849c971245e396cc94fabd9e036e": {
          "model_module": "@jupyter-widgets/controls",
          "model_name": "FloatProgressModel",
          "state": {
            "_view_name": "ProgressView",
            "style": "IPY_MODEL_ff9de34ad2c04ffeb56e37555ac6c569",
            "_dom_classes": [],
            "description": "Downloading: 100%",
            "_model_name": "FloatProgressModel",
            "bar_style": "success",
            "max": 536063208,
            "_view_module": "@jupyter-widgets/controls",
            "_model_module_version": "1.5.0",
            "value": 536063208,
            "_view_count": null,
            "_view_module_version": "1.5.0",
            "orientation": "horizontal",
            "min": 0,
            "description_tooltip": null,
            "_model_module": "@jupyter-widgets/controls",
            "layout": "IPY_MODEL_564ee9c56cbc4430aa052f6b8a7fd934"
          }
        },
        "422d933be1f14c11bf1d637e12e94782": {
          "model_module": "@jupyter-widgets/controls",
          "model_name": "HTMLModel",
          "state": {
            "_view_name": "HTMLView",
            "style": "IPY_MODEL_d13dd5f6acfe475eada794e93eeb2915",
            "_dom_classes": [],
            "description": "",
            "_model_name": "HTMLModel",
            "placeholder": "​",
            "_view_module": "@jupyter-widgets/controls",
            "_model_module_version": "1.5.0",
            "value": " 536M/536M [00:16&lt;00:00, 32.8MB/s]",
            "_view_count": null,
            "_view_module_version": "1.5.0",
            "description_tooltip": null,
            "_model_module": "@jupyter-widgets/controls",
            "layout": "IPY_MODEL_60361321333d458c856fbbbb669ae465"
          }
        },
        "ff9de34ad2c04ffeb56e37555ac6c569": {
          "model_module": "@jupyter-widgets/controls",
          "model_name": "ProgressStyleModel",
          "state": {
            "_view_name": "StyleView",
            "_model_name": "ProgressStyleModel",
            "description_width": "initial",
            "_view_module": "@jupyter-widgets/base",
            "_model_module_version": "1.5.0",
            "_view_count": null,
            "_view_module_version": "1.2.0",
            "bar_color": null,
            "_model_module": "@jupyter-widgets/controls"
          }
        },
        "564ee9c56cbc4430aa052f6b8a7fd934": {
          "model_module": "@jupyter-widgets/base",
          "model_name": "LayoutModel",
          "state": {
            "_view_name": "LayoutView",
            "grid_template_rows": null,
            "right": null,
            "justify_content": null,
            "_view_module": "@jupyter-widgets/base",
            "overflow": null,
            "_model_module_version": "1.2.0",
            "_view_count": null,
            "flex_flow": null,
            "width": null,
            "min_width": null,
            "border": null,
            "align_items": null,
            "bottom": null,
            "_model_module": "@jupyter-widgets/base",
            "top": null,
            "grid_column": null,
            "overflow_y": null,
            "overflow_x": null,
            "grid_auto_flow": null,
            "grid_area": null,
            "grid_template_columns": null,
            "flex": null,
            "_model_name": "LayoutModel",
            "justify_items": null,
            "grid_row": null,
            "max_height": null,
            "align_content": null,
            "visibility": null,
            "align_self": null,
            "height": null,
            "min_height": null,
            "padding": null,
            "grid_auto_rows": null,
            "grid_gap": null,
            "max_width": null,
            "order": null,
            "_view_module_version": "1.2.0",
            "grid_template_areas": null,
            "object_position": null,
            "object_fit": null,
            "grid_auto_columns": null,
            "margin": null,
            "display": null,
            "left": null
          }
        },
        "d13dd5f6acfe475eada794e93eeb2915": {
          "model_module": "@jupyter-widgets/controls",
          "model_name": "DescriptionStyleModel",
          "state": {
            "_view_name": "StyleView",
            "_model_name": "DescriptionStyleModel",
            "description_width": "",
            "_view_module": "@jupyter-widgets/base",
            "_model_module_version": "1.5.0",
            "_view_count": null,
            "_view_module_version": "1.2.0",
            "_model_module": "@jupyter-widgets/controls"
          }
        },
        "60361321333d458c856fbbbb669ae465": {
          "model_module": "@jupyter-widgets/base",
          "model_name": "LayoutModel",
          "state": {
            "_view_name": "LayoutView",
            "grid_template_rows": null,
            "right": null,
            "justify_content": null,
            "_view_module": "@jupyter-widgets/base",
            "overflow": null,
            "_model_module_version": "1.2.0",
            "_view_count": null,
            "flex_flow": null,
            "width": null,
            "min_width": null,
            "border": null,
            "align_items": null,
            "bottom": null,
            "_model_module": "@jupyter-widgets/base",
            "top": null,
            "grid_column": null,
            "overflow_y": null,
            "overflow_x": null,
            "grid_auto_flow": null,
            "grid_area": null,
            "grid_template_columns": null,
            "flex": null,
            "_model_name": "LayoutModel",
            "justify_items": null,
            "grid_row": null,
            "max_height": null,
            "align_content": null,
            "visibility": null,
            "align_self": null,
            "height": null,
            "min_height": null,
            "padding": null,
            "grid_auto_rows": null,
            "grid_gap": null,
            "max_width": null,
            "order": null,
            "_view_module_version": "1.2.0",
            "grid_template_areas": null,
            "object_position": null,
            "object_fit": null,
            "grid_auto_columns": null,
            "margin": null,
            "display": null,
            "left": null
          }
        }
      }
    }
  },
  "cells": [
    {
      "cell_type": "markdown",
      "metadata": {
        "id": "view-in-github",
        "colab_type": "text"
      },
      "source": [
        "<a href=\"https://colab.research.google.com/github/usrikanth/Projects/blob/master/sentence_embedding.ipynb\" target=\"_parent\"><img src=\"https://colab.research.google.com/assets/colab-badge.svg\" alt=\"Open In Colab\"/></a>"
      ]
    },
    {
      "cell_type": "code",
      "metadata": {
        "colab": {
          "base_uri": "https://localhost:8080/"
        },
        "id": "rs062onqIZxv",
        "outputId": "26a1701a-db41-4fcf-8cfc-c815f6a649c8"
      },
      "source": [
        "!pip install transformers\n"
      ],
      "execution_count": 21,
      "outputs": [
        {
          "output_type": "stream",
          "text": [
            "Collecting transformers\n",
            "\u001b[?25l  Downloading https://files.pythonhosted.org/packages/88/b1/41130a228dd656a1a31ba281598a968320283f48d42782845f6ba567f00b/transformers-4.2.2-py3-none-any.whl (1.8MB)\n",
            "\r\u001b[K     |▏                               | 10kB 19.1MB/s eta 0:00:01\r\u001b[K     |▍                               | 20kB 24.2MB/s eta 0:00:01\r\u001b[K     |▋                               | 30kB 28.7MB/s eta 0:00:01\r\u001b[K     |▊                               | 40kB 23.1MB/s eta 0:00:01\r\u001b[K     |█                               | 51kB 15.9MB/s eta 0:00:01\r\u001b[K     |█▏                              | 61kB 17.7MB/s eta 0:00:01\r\u001b[K     |█▎                              | 71kB 12.5MB/s eta 0:00:01\r\u001b[K     |█▌                              | 81kB 13.4MB/s eta 0:00:01\r\u001b[K     |█▊                              | 92kB 13.7MB/s eta 0:00:01\r\u001b[K     |█▉                              | 102kB 13.4MB/s eta 0:00:01\r\u001b[K     |██                              | 112kB 13.4MB/s eta 0:00:01\r\u001b[K     |██▎                             | 122kB 13.4MB/s eta 0:00:01\r\u001b[K     |██▍                             | 133kB 13.4MB/s eta 0:00:01\r\u001b[K     |██▋                             | 143kB 13.4MB/s eta 0:00:01\r\u001b[K     |██▉                             | 153kB 13.4MB/s eta 0:00:01\r\u001b[K     |███                             | 163kB 13.4MB/s eta 0:00:01\r\u001b[K     |███▏                            | 174kB 13.4MB/s eta 0:00:01\r\u001b[K     |███▍                            | 184kB 13.4MB/s eta 0:00:01\r\u001b[K     |███▌                            | 194kB 13.4MB/s eta 0:00:01\r\u001b[K     |███▊                            | 204kB 13.4MB/s eta 0:00:01\r\u001b[K     |████                            | 215kB 13.4MB/s eta 0:00:01\r\u001b[K     |████                            | 225kB 13.4MB/s eta 0:00:01\r\u001b[K     |████▎                           | 235kB 13.4MB/s eta 0:00:01\r\u001b[K     |████▌                           | 245kB 13.4MB/s eta 0:00:01\r\u001b[K     |████▋                           | 256kB 13.4MB/s eta 0:00:01\r\u001b[K     |████▉                           | 266kB 13.4MB/s eta 0:00:01\r\u001b[K     |█████                           | 276kB 13.4MB/s eta 0:00:01\r\u001b[K     |█████▏                          | 286kB 13.4MB/s eta 0:00:01\r\u001b[K     |█████▍                          | 296kB 13.4MB/s eta 0:00:01\r\u001b[K     |█████▋                          | 307kB 13.4MB/s eta 0:00:01\r\u001b[K     |█████▊                          | 317kB 13.4MB/s eta 0:00:01\r\u001b[K     |██████                          | 327kB 13.4MB/s eta 0:00:01\r\u001b[K     |██████▏                         | 337kB 13.4MB/s eta 0:00:01\r\u001b[K     |██████▎                         | 348kB 13.4MB/s eta 0:00:01\r\u001b[K     |██████▌                         | 358kB 13.4MB/s eta 0:00:01\r\u001b[K     |██████▊                         | 368kB 13.4MB/s eta 0:00:01\r\u001b[K     |██████▉                         | 378kB 13.4MB/s eta 0:00:01\r\u001b[K     |███████                         | 389kB 13.4MB/s eta 0:00:01\r\u001b[K     |███████▎                        | 399kB 13.4MB/s eta 0:00:01\r\u001b[K     |███████▍                        | 409kB 13.4MB/s eta 0:00:01\r\u001b[K     |███████▋                        | 419kB 13.4MB/s eta 0:00:01\r\u001b[K     |███████▉                        | 430kB 13.4MB/s eta 0:00:01\r\u001b[K     |████████                        | 440kB 13.4MB/s eta 0:00:01\r\u001b[K     |████████▏                       | 450kB 13.4MB/s eta 0:00:01\r\u001b[K     |████████▍                       | 460kB 13.4MB/s eta 0:00:01\r\u001b[K     |████████▌                       | 471kB 13.4MB/s eta 0:00:01\r\u001b[K     |████████▊                       | 481kB 13.4MB/s eta 0:00:01\r\u001b[K     |█████████                       | 491kB 13.4MB/s eta 0:00:01\r\u001b[K     |█████████                       | 501kB 13.4MB/s eta 0:00:01\r\u001b[K     |█████████▎                      | 512kB 13.4MB/s eta 0:00:01\r\u001b[K     |█████████▌                      | 522kB 13.4MB/s eta 0:00:01\r\u001b[K     |█████████▋                      | 532kB 13.4MB/s eta 0:00:01\r\u001b[K     |█████████▉                      | 542kB 13.4MB/s eta 0:00:01\r\u001b[K     |██████████                      | 552kB 13.4MB/s eta 0:00:01\r\u001b[K     |██████████▏                     | 563kB 13.4MB/s eta 0:00:01\r\u001b[K     |██████████▍                     | 573kB 13.4MB/s eta 0:00:01\r\u001b[K     |██████████▋                     | 583kB 13.4MB/s eta 0:00:01\r\u001b[K     |██████████▊                     | 593kB 13.4MB/s eta 0:00:01\r\u001b[K     |███████████                     | 604kB 13.4MB/s eta 0:00:01\r\u001b[K     |███████████▏                    | 614kB 13.4MB/s eta 0:00:01\r\u001b[K     |███████████▎                    | 624kB 13.4MB/s eta 0:00:01\r\u001b[K     |███████████▌                    | 634kB 13.4MB/s eta 0:00:01\r\u001b[K     |███████████▊                    | 645kB 13.4MB/s eta 0:00:01\r\u001b[K     |███████████▉                    | 655kB 13.4MB/s eta 0:00:01\r\u001b[K     |████████████                    | 665kB 13.4MB/s eta 0:00:01\r\u001b[K     |████████████▎                   | 675kB 13.4MB/s eta 0:00:01\r\u001b[K     |████████████▍                   | 686kB 13.4MB/s eta 0:00:01\r\u001b[K     |████████████▋                   | 696kB 13.4MB/s eta 0:00:01\r\u001b[K     |████████████▉                   | 706kB 13.4MB/s eta 0:00:01\r\u001b[K     |█████████████                   | 716kB 13.4MB/s eta 0:00:01\r\u001b[K     |█████████████▏                  | 727kB 13.4MB/s eta 0:00:01\r\u001b[K     |█████████████▍                  | 737kB 13.4MB/s eta 0:00:01\r\u001b[K     |█████████████▌                  | 747kB 13.4MB/s eta 0:00:01\r\u001b[K     |█████████████▊                  | 757kB 13.4MB/s eta 0:00:01\r\u001b[K     |██████████████                  | 768kB 13.4MB/s eta 0:00:01\r\u001b[K     |██████████████                  | 778kB 13.4MB/s eta 0:00:01\r\u001b[K     |██████████████▎                 | 788kB 13.4MB/s eta 0:00:01\r\u001b[K     |██████████████▌                 | 798kB 13.4MB/s eta 0:00:01\r\u001b[K     |██████████████▋                 | 808kB 13.4MB/s eta 0:00:01\r\u001b[K     |██████████████▉                 | 819kB 13.4MB/s eta 0:00:01\r\u001b[K     |███████████████                 | 829kB 13.4MB/s eta 0:00:01\r\u001b[K     |███████████████▏                | 839kB 13.4MB/s eta 0:00:01\r\u001b[K     |███████████████▍                | 849kB 13.4MB/s eta 0:00:01\r\u001b[K     |███████████████▋                | 860kB 13.4MB/s eta 0:00:01\r\u001b[K     |███████████████▊                | 870kB 13.4MB/s eta 0:00:01\r\u001b[K     |████████████████                | 880kB 13.4MB/s eta 0:00:01\r\u001b[K     |████████████████▏               | 890kB 13.4MB/s eta 0:00:01\r\u001b[K     |████████████████▎               | 901kB 13.4MB/s eta 0:00:01\r\u001b[K     |████████████████▌               | 911kB 13.4MB/s eta 0:00:01\r\u001b[K     |████████████████▊               | 921kB 13.4MB/s eta 0:00:01\r\u001b[K     |████████████████▉               | 931kB 13.4MB/s eta 0:00:01\r\u001b[K     |█████████████████               | 942kB 13.4MB/s eta 0:00:01\r\u001b[K     |█████████████████▎              | 952kB 13.4MB/s eta 0:00:01\r\u001b[K     |█████████████████▍              | 962kB 13.4MB/s eta 0:00:01\r\u001b[K     |█████████████████▋              | 972kB 13.4MB/s eta 0:00:01\r\u001b[K     |█████████████████▉              | 983kB 13.4MB/s eta 0:00:01\r\u001b[K     |██████████████████              | 993kB 13.4MB/s eta 0:00:01\r\u001b[K     |██████████████████▏             | 1.0MB 13.4MB/s eta 0:00:01\r\u001b[K     |██████████████████▍             | 1.0MB 13.4MB/s eta 0:00:01\r\u001b[K     |██████████████████▌             | 1.0MB 13.4MB/s eta 0:00:01\r\u001b[K     |██████████████████▊             | 1.0MB 13.4MB/s eta 0:00:01\r\u001b[K     |███████████████████             | 1.0MB 13.4MB/s eta 0:00:01\r\u001b[K     |███████████████████             | 1.1MB 13.4MB/s eta 0:00:01\r\u001b[K     |███████████████████▎            | 1.1MB 13.4MB/s eta 0:00:01\r\u001b[K     |███████████████████▌            | 1.1MB 13.4MB/s eta 0:00:01\r\u001b[K     |███████████████████▋            | 1.1MB 13.4MB/s eta 0:00:01\r\u001b[K     |███████████████████▉            | 1.1MB 13.4MB/s eta 0:00:01\r\u001b[K     |████████████████████            | 1.1MB 13.4MB/s eta 0:00:01\r\u001b[K     |████████████████████▏           | 1.1MB 13.4MB/s eta 0:00:01\r\u001b[K     |████████████████████▍           | 1.1MB 13.4MB/s eta 0:00:01\r\u001b[K     |████████████████████▋           | 1.1MB 13.4MB/s eta 0:00:01\r\u001b[K     |████████████████████▊           | 1.1MB 13.4MB/s eta 0:00:01\r\u001b[K     |█████████████████████           | 1.2MB 13.4MB/s eta 0:00:01\r\u001b[K     |█████████████████████▏          | 1.2MB 13.4MB/s eta 0:00:01\r\u001b[K     |█████████████████████▎          | 1.2MB 13.4MB/s eta 0:00:01\r\u001b[K     |█████████████████████▌          | 1.2MB 13.4MB/s eta 0:00:01\r\u001b[K     |█████████████████████▊          | 1.2MB 13.4MB/s eta 0:00:01\r\u001b[K     |█████████████████████▉          | 1.2MB 13.4MB/s eta 0:00:01\r\u001b[K     |██████████████████████          | 1.2MB 13.4MB/s eta 0:00:01\r\u001b[K     |██████████████████████▎         | 1.2MB 13.4MB/s eta 0:00:01\r\u001b[K     |██████████████████████▍         | 1.2MB 13.4MB/s eta 0:00:01\r\u001b[K     |██████████████████████▋         | 1.2MB 13.4MB/s eta 0:00:01\r\u001b[K     |██████████████████████▉         | 1.3MB 13.4MB/s eta 0:00:01\r\u001b[K     |███████████████████████         | 1.3MB 13.4MB/s eta 0:00:01\r\u001b[K     |███████████████████████▏        | 1.3MB 13.4MB/s eta 0:00:01\r\u001b[K     |███████████████████████▍        | 1.3MB 13.4MB/s eta 0:00:01\r\u001b[K     |███████████████████████▌        | 1.3MB 13.4MB/s eta 0:00:01\r\u001b[K     |███████████████████████▊        | 1.3MB 13.4MB/s eta 0:00:01\r\u001b[K     |████████████████████████        | 1.3MB 13.4MB/s eta 0:00:01\r\u001b[K     |████████████████████████        | 1.3MB 13.4MB/s eta 0:00:01\r\u001b[K     |████████████████████████▎       | 1.3MB 13.4MB/s eta 0:00:01\r\u001b[K     |████████████████████████▌       | 1.4MB 13.4MB/s eta 0:00:01\r\u001b[K     |████████████████████████▊       | 1.4MB 13.4MB/s eta 0:00:01\r\u001b[K     |████████████████████████▉       | 1.4MB 13.4MB/s eta 0:00:01\r\u001b[K     |█████████████████████████       | 1.4MB 13.4MB/s eta 0:00:01\r\u001b[K     |█████████████████████████▎      | 1.4MB 13.4MB/s eta 0:00:01\r\u001b[K     |█████████████████████████▍      | 1.4MB 13.4MB/s eta 0:00:01\r\u001b[K     |█████████████████████████▋      | 1.4MB 13.4MB/s eta 0:00:01\r\u001b[K     |█████████████████████████▉      | 1.4MB 13.4MB/s eta 0:00:01\r\u001b[K     |██████████████████████████      | 1.4MB 13.4MB/s eta 0:00:01\r\u001b[K     |██████████████████████████▏     | 1.4MB 13.4MB/s eta 0:00:01\r\u001b[K     |██████████████████████████▍     | 1.5MB 13.4MB/s eta 0:00:01\r\u001b[K     |██████████████████████████▌     | 1.5MB 13.4MB/s eta 0:00:01\r\u001b[K     |██████████████████████████▊     | 1.5MB 13.4MB/s eta 0:00:01\r\u001b[K     |███████████████████████████     | 1.5MB 13.4MB/s eta 0:00:01\r\u001b[K     |███████████████████████████     | 1.5MB 13.4MB/s eta 0:00:01\r\u001b[K     |███████████████████████████▎    | 1.5MB 13.4MB/s eta 0:00:01\r\u001b[K     |███████████████████████████▌    | 1.5MB 13.4MB/s eta 0:00:01\r\u001b[K     |███████████████████████████▋    | 1.5MB 13.4MB/s eta 0:00:01\r\u001b[K     |███████████████████████████▉    | 1.5MB 13.4MB/s eta 0:00:01\r\u001b[K     |████████████████████████████    | 1.5MB 13.4MB/s eta 0:00:01\r\u001b[K     |████████████████████████████▏   | 1.6MB 13.4MB/s eta 0:00:01\r\u001b[K     |████████████████████████████▍   | 1.6MB 13.4MB/s eta 0:00:01\r\u001b[K     |████████████████████████████▋   | 1.6MB 13.4MB/s eta 0:00:01\r\u001b[K     |████████████████████████████▊   | 1.6MB 13.4MB/s eta 0:00:01\r\u001b[K     |█████████████████████████████   | 1.6MB 13.4MB/s eta 0:00:01\r\u001b[K     |█████████████████████████████▏  | 1.6MB 13.4MB/s eta 0:00:01\r\u001b[K     |█████████████████████████████▎  | 1.6MB 13.4MB/s eta 0:00:01\r\u001b[K     |█████████████████████████████▌  | 1.6MB 13.4MB/s eta 0:00:01\r\u001b[K     |█████████████████████████████▊  | 1.6MB 13.4MB/s eta 0:00:01\r\u001b[K     |█████████████████████████████▉  | 1.6MB 13.4MB/s eta 0:00:01\r\u001b[K     |██████████████████████████████  | 1.7MB 13.4MB/s eta 0:00:01\r\u001b[K     |██████████████████████████████▎ | 1.7MB 13.4MB/s eta 0:00:01\r\u001b[K     |██████████████████████████████▍ | 1.7MB 13.4MB/s eta 0:00:01\r\u001b[K     |██████████████████████████████▋ | 1.7MB 13.4MB/s eta 0:00:01\r\u001b[K     |██████████████████████████████▉ | 1.7MB 13.4MB/s eta 0:00:01\r\u001b[K     |███████████████████████████████ | 1.7MB 13.4MB/s eta 0:00:01\r\u001b[K     |███████████████████████████████▏| 1.7MB 13.4MB/s eta 0:00:01\r\u001b[K     |███████████████████████████████▍| 1.7MB 13.4MB/s eta 0:00:01\r\u001b[K     |███████████████████████████████▌| 1.7MB 13.4MB/s eta 0:00:01\r\u001b[K     |███████████████████████████████▊| 1.8MB 13.4MB/s eta 0:00:01\r\u001b[K     |████████████████████████████████| 1.8MB 13.4MB/s eta 0:00:01\r\u001b[K     |████████████████████████████████| 1.8MB 13.4MB/s \n",
            "\u001b[?25hRequirement already satisfied: dataclasses; python_version < \"3.7\" in /usr/local/lib/python3.6/dist-packages (from transformers) (0.8)\n",
            "Collecting tokenizers==0.9.4\n",
            "\u001b[?25l  Downloading https://files.pythonhosted.org/packages/0f/1c/e789a8b12e28be5bc1ce2156cf87cb522b379be9cadc7ad8091a4cc107c4/tokenizers-0.9.4-cp36-cp36m-manylinux2010_x86_64.whl (2.9MB)\n",
            "\u001b[K     |████████████████████████████████| 2.9MB 50.4MB/s \n",
            "\u001b[?25hCollecting sacremoses\n",
            "\u001b[?25l  Downloading https://files.pythonhosted.org/packages/7d/34/09d19aff26edcc8eb2a01bed8e98f13a1537005d31e95233fd48216eed10/sacremoses-0.0.43.tar.gz (883kB)\n",
            "\u001b[K     |████████████████████████████████| 890kB 46.6MB/s \n",
            "\u001b[?25hRequirement already satisfied: tqdm>=4.27 in /usr/local/lib/python3.6/dist-packages (from transformers) (4.41.1)\n",
            "Requirement already satisfied: importlib-metadata; python_version < \"3.8\" in /usr/local/lib/python3.6/dist-packages (from transformers) (3.4.0)\n",
            "Requirement already satisfied: numpy in /usr/local/lib/python3.6/dist-packages (from transformers) (1.19.5)\n",
            "Requirement already satisfied: packaging in /usr/local/lib/python3.6/dist-packages (from transformers) (20.9)\n",
            "Requirement already satisfied: requests in /usr/local/lib/python3.6/dist-packages (from transformers) (2.23.0)\n",
            "Requirement already satisfied: filelock in /usr/local/lib/python3.6/dist-packages (from transformers) (3.0.12)\n",
            "Requirement already satisfied: regex!=2019.12.17 in /usr/local/lib/python3.6/dist-packages (from transformers) (2019.12.20)\n",
            "Requirement already satisfied: six in /usr/local/lib/python3.6/dist-packages (from sacremoses->transformers) (1.15.0)\n",
            "Requirement already satisfied: click in /usr/local/lib/python3.6/dist-packages (from sacremoses->transformers) (7.1.2)\n",
            "Requirement already satisfied: joblib in /usr/local/lib/python3.6/dist-packages (from sacremoses->transformers) (1.0.0)\n",
            "Requirement already satisfied: zipp>=0.5 in /usr/local/lib/python3.6/dist-packages (from importlib-metadata; python_version < \"3.8\"->transformers) (3.4.0)\n",
            "Requirement already satisfied: typing-extensions>=3.6.4; python_version < \"3.8\" in /usr/local/lib/python3.6/dist-packages (from importlib-metadata; python_version < \"3.8\"->transformers) (3.7.4.3)\n",
            "Requirement already satisfied: pyparsing>=2.0.2 in /usr/local/lib/python3.6/dist-packages (from packaging->transformers) (2.4.7)\n",
            "Requirement already satisfied: idna<3,>=2.5 in /usr/local/lib/python3.6/dist-packages (from requests->transformers) (2.10)\n",
            "Requirement already satisfied: chardet<4,>=3.0.2 in /usr/local/lib/python3.6/dist-packages (from requests->transformers) (3.0.4)\n",
            "Requirement already satisfied: urllib3!=1.25.0,!=1.25.1,<1.26,>=1.21.1 in /usr/local/lib/python3.6/dist-packages (from requests->transformers) (1.24.3)\n",
            "Requirement already satisfied: certifi>=2017.4.17 in /usr/local/lib/python3.6/dist-packages (from requests->transformers) (2020.12.5)\n",
            "Building wheels for collected packages: sacremoses\n",
            "  Building wheel for sacremoses (setup.py) ... \u001b[?25l\u001b[?25hdone\n",
            "  Created wheel for sacremoses: filename=sacremoses-0.0.43-cp36-none-any.whl size=893261 sha256=f0a0b13802731e0df8e66733eae5b61731c7e7375a0f439eb6e1fbd66f9d205a\n",
            "  Stored in directory: /root/.cache/pip/wheels/29/3c/fd/7ce5c3f0666dab31a50123635e6fb5e19ceb42ce38d4e58f45\n",
            "Successfully built sacremoses\n",
            "Installing collected packages: tokenizers, sacremoses, transformers\n",
            "Successfully installed sacremoses-0.0.43 tokenizers-0.9.4 transformers-4.2.2\n"
          ],
          "name": "stdout"
        }
      ]
    },
    {
      "cell_type": "code",
      "metadata": {
        "id": "w6_e_lALJqVU"
      },
      "source": [
        "import numpy as np\n",
        "import pandas as pd\n",
        "from sklearn.model_selection import train_test_split\n",
        "from sklearn.linear_model import LogisticRegression\n",
        "from sklearn.model_selection import GridSearchCV\n",
        "from sklearn.model_selection import cross_val_score\n",
        "import torch\n",
        "import warnings\n",
        "warnings.filterwarnings('ignore')"
      ],
      "execution_count": 26,
      "outputs": []
    },
    {
      "cell_type": "code",
      "metadata": {
        "id": "5P3ALUJcKb2M"
      },
      "source": [
        "import re\n",
        "import nltk\n",
        "from nltk.corpus import stopwords\n",
        "import matplotlib.pyplot as plt\n",
        "import seaborn as sns\n",
        "\n",
        "'''\n",
        "Preprocess a string.\n",
        ":parameter\n",
        "    :param text: string - name of column containing text\n",
        "    :param lst_stopwords: list - list of stopwords to remove\n",
        "    :param flg_stemm: bool - whether stemming is to be applied\n",
        "    :param flg_lemm: bool - whether lemmitisation is to be applied\n",
        ":return\n",
        "    cleaned text\n",
        "'''\n",
        "def utils_preprocess_text(text, flg_stemm=False, flg_lemm=True, lst_stopwords=None):\n",
        "    ## clean (convert to lowercase and remove punctuations and characters and then strip)\n",
        "    text = re.sub(r'[^\\w\\s]', '', str(text).lower().strip())\n",
        "            \n",
        "    ## Tokenize (convert from string to list)\n",
        "    lst_text = text.split()    \n",
        "    ## remove Stopwords\n",
        "    if lst_stopwords is not None:\n",
        "        lst_text = [word for word in lst_text if word not in \n",
        "                    lst_stopwords]\n",
        "                \n",
        "    ## Stemming (remove -ing, -ly, ...)\n",
        "    if flg_stemm == True:\n",
        "        ps = nltk.stem.porter.PorterStemmer()\n",
        "        lst_text = [ps.stem(word) for word in lst_text]\n",
        "                \n",
        "    ## Lemmatisation (convert the word into root word)\n",
        "    if flg_lemm == True:\n",
        "        lem = nltk.stem.wordnet.WordNetLemmatizer()\n",
        "        lst_text = [lem.lemmatize(word) for word in lst_text]\n",
        "            \n",
        "    ## back to string from list\n",
        "    text = \" \".join(lst_text)\n",
        "    return text\n"
      ],
      "execution_count": 27,
      "outputs": []
    },
    {
      "cell_type": "code",
      "metadata": {
        "colab": {
          "base_uri": "https://localhost:8080/"
        },
        "id": "Ua_kEB5wQoQk",
        "outputId": "35f51a69-440b-45ae-ab2d-952c6c5ff475"
      },
      "source": [
        "\n",
        "#lst_stopwords = nltk.corpus.stopwords.words(\"english\")\n",
        "lst_stopwords = nltk.download('stopwords')\n"
      ],
      "execution_count": 4,
      "outputs": [
        {
          "output_type": "stream",
          "text": [
            "[nltk_data] Downloading package stopwords to /root/nltk_data...\n",
            "[nltk_data]   Unzipping corpora/stopwords.zip.\n"
          ],
          "name": "stdout"
        },
        {
          "output_type": "execute_result",
          "data": {
            "text/plain": [
              "True"
            ]
          },
          "metadata": {
            "tags": []
          },
          "execution_count": 4
        }
      ]
    },
    {
      "cell_type": "code",
      "metadata": {
        "id": "KjXVgcpZRwLt"
      },
      "source": [
        "\n",
        "lst_stopwords = stopwords.words('english')\n"
      ],
      "execution_count": 8,
      "outputs": []
    },
    {
      "cell_type": "code",
      "metadata": {
        "colab": {
          "base_uri": "https://localhost:8080/"
        },
        "id": "ux7oxOefR-Kz",
        "outputId": "343b4472-e23f-4a0c-bf08-c41b150f2966"
      },
      "source": [
        "nltk.download('wordnet')\n"
      ],
      "execution_count": 38,
      "outputs": [
        {
          "output_type": "stream",
          "text": [
            "[nltk_data] Downloading package wordnet to /root/nltk_data...\n",
            "[nltk_data]   Package wordnet is already up-to-date!\n"
          ],
          "name": "stdout"
        },
        {
          "output_type": "execute_result",
          "data": {
            "text/plain": [
              "True"
            ]
          },
          "metadata": {
            "tags": []
          },
          "execution_count": 38
        }
      ]
    },
    {
      "cell_type": "code",
      "metadata": {
        "colab": {
          "base_uri": "https://localhost:8080/"
        },
        "id": "TTI8T8DVYlHt",
        "outputId": "966a5e7f-575b-4660-8eaf-8e0e104f02e8"
      },
      "source": [
        "text = \"We have our preprocessed corpus, consequently the next step is to build the target variable. Basically, we’re here:\"\n",
        "lam = lambda x: utils_preprocess_text(x, flg_stemm=False, flg_lemm=True,lst_stopwords=lst_stopwords)\n",
        "text_clean = lam(text)\n",
        "print(text_clean)"
      ],
      "execution_count": 41,
      "outputs": [
        {
          "output_type": "stream",
          "text": [
            "preprocessed corpus consequently next step build target variable basically\n"
          ],
          "name": "stdout"
        }
      ]
    },
    {
      "cell_type": "code",
      "metadata": {
        "colab": {
          "base_uri": "https://localhost:8080/",
          "height": 269,
          "referenced_widgets": [
            "c5e4c8dc68874cec94e089929912fc0a",
            "3fe66109c6e443a2877cdedb460e4b4b",
            "f9b5363761494397a41d03d7bfdcc639",
            "627ad1bc23be4a7580c5dd884621bf8d",
            "ecda0d06b4964e559d23b84063576a3b",
            "48c2585234f94d14b9797b7c5a888fe0",
            "d0911c2deb5945949bff4a89babd16b3",
            "c5594bce180849a1a5c82f0bdcd9c8be",
            "a279efed14424c1fb621e44846bd9fe3",
            "9e2c18e846fb40f98ec9eb7a0fd3e696",
            "01f12828f8b2475c912dd80f0484bed8",
            "5b826501259546ac9f07ac35f6c43fa0",
            "736382c9308f41ffa00e9465ecf27e97",
            "fb42f7e79ee5439cb9a9a5673b74a6ea",
            "03f420e7673a4983bbdaa4d855fb4647",
            "45df1b636b9b42a39afb2a9fdac91f6e",
            "d485d697ed5c470a8252caf9817c0193",
            "6b4651f99f3741a3b37cd03b0cd2b084",
            "f41c849c971245e396cc94fabd9e036e",
            "422d933be1f14c11bf1d637e12e94782",
            "ff9de34ad2c04ffeb56e37555ac6c569",
            "564ee9c56cbc4430aa052f6b8a7fd934",
            "d13dd5f6acfe475eada794e93eeb2915",
            "60361321333d458c856fbbbb669ae465"
          ]
        },
        "id": "jbIm419TVse7",
        "outputId": "5342da83-97a7-42c8-a4a8-b3d4e6c9d246"
      },
      "source": [
        "import transformers\n",
        "tokenizer = transformers.BertTokenizer.from_pretrained('bert-base-uncased', do_lower_case=True)\n",
        "nlp = transformers.TFBertModel.from_pretrained('bert-base-uncased')"
      ],
      "execution_count": 22,
      "outputs": [
        {
          "output_type": "display_data",
          "data": {
            "application/vnd.jupyter.widget-view+json": {
              "model_id": "c5e4c8dc68874cec94e089929912fc0a",
              "version_minor": 0,
              "version_major": 2
            },
            "text/plain": [
              "HBox(children=(FloatProgress(value=0.0, description='Downloading', max=231508.0, style=ProgressStyle(descripti…"
            ]
          },
          "metadata": {
            "tags": []
          }
        },
        {
          "output_type": "stream",
          "text": [
            "\n"
          ],
          "name": "stdout"
        },
        {
          "output_type": "display_data",
          "data": {
            "application/vnd.jupyter.widget-view+json": {
              "model_id": "a279efed14424c1fb621e44846bd9fe3",
              "version_minor": 0,
              "version_major": 2
            },
            "text/plain": [
              "HBox(children=(FloatProgress(value=0.0, description='Downloading', max=433.0, style=ProgressStyle(description_…"
            ]
          },
          "metadata": {
            "tags": []
          }
        },
        {
          "output_type": "stream",
          "text": [
            "\n"
          ],
          "name": "stdout"
        },
        {
          "output_type": "display_data",
          "data": {
            "application/vnd.jupyter.widget-view+json": {
              "model_id": "d485d697ed5c470a8252caf9817c0193",
              "version_minor": 0,
              "version_major": 2
            },
            "text/plain": [
              "HBox(children=(FloatProgress(value=0.0, description='Downloading', max=536063208.0, style=ProgressStyle(descri…"
            ]
          },
          "metadata": {
            "tags": []
          }
        },
        {
          "output_type": "stream",
          "text": [
            "\n"
          ],
          "name": "stdout"
        },
        {
          "output_type": "stream",
          "text": [
            "Some layers from the model checkpoint at bert-base-uncased were not used when initializing TFBertModel: ['nsp___cls', 'mlm___cls']\n",
            "- This IS expected if you are initializing TFBertModel from the checkpoint of a model trained on another task or with another architecture (e.g. initializing a BertForSequenceClassification model from a BertForPreTraining model).\n",
            "- This IS NOT expected if you are initializing TFBertModel from the checkpoint of a model that you expect to be exactly identical (initializing a BertForSequenceClassification model from a BertForSequenceClassification model).\n",
            "All the layers of TFBertModel were initialized from the model checkpoint at bert-base-uncased.\n",
            "If your task is similar to the task the model of the checkpoint was trained on, you can already use TFBertModel for predictions without further training.\n"
          ],
          "name": "stderr"
        }
      ]
    },
    {
      "cell_type": "code",
      "metadata": {
        "colab": {
          "base_uri": "https://localhost:8080/"
        },
        "id": "GqUWgOlxWcl8",
        "outputId": "076dab55-4508-498c-9ee3-3f4ffaed55d8"
      },
      "source": [
        "## tokenize\n",
        "txt = \"river bank\"\n",
        "idx = tokenizer.encode(txt)\n",
        "print(\"tokens:\", tokenizer.convert_ids_to_tokens(idx))\n",
        "print(\"ids   :\", tokenizer.encode(txt))\n",
        "## word embedding\n",
        "idx = np.array(idx)[None,:]\n",
        "embedding = nlp(idx)\n",
        "print(\"shape:\", embedding[0][0].shape)\n"
      ],
      "execution_count": 28,
      "outputs": [
        {
          "output_type": "stream",
          "text": [
            "tokens: ['[CLS]', 'river', 'bank', '[SEP]']\n",
            "ids   : [101, 2314, 2924, 102]\n",
            "shape: (4, 768)\n"
          ],
          "name": "stdout"
        }
      ]
    },
    {
      "cell_type": "code",
      "metadata": {
        "colab": {
          "base_uri": "https://localhost:8080/"
        },
        "id": "Fh9fTLQ1W-L5",
        "outputId": "8925e788-8ab9-46df-c0ed-4c91494600c7"
      },
      "source": [
        "## vector of the second input word\n",
        "embedding[0][0][2]"
      ],
      "execution_count": 29,
      "outputs": [
        {
          "output_type": "execute_result",
          "data": {
            "text/plain": [
              "<tf.Tensor: shape=(768,), dtype=float32, numpy=\n",
              "array([-7.05829263e-02, -6.21527791e-01, -7.02520549e-01, -2.49586597e-01,\n",
              "        5.77253520e-01,  4.81010288e-01,  2.44045839e-01,  5.12865007e-01,\n",
              "       -3.52890432e-01, -8.16163421e-01,  3.99640977e-01,  1.81418151e-01,\n",
              "        5.12113333e-01,  1.44479528e-01, -1.42232597e+00, -1.06336460e-01,\n",
              "        1.06119672e-02, -4.34668779e-01,  1.13796592e+00,  7.06453994e-02,\n",
              "        6.18476391e-01,  5.76436818e-02,  2.41197765e-01,  2.96010047e-01,\n",
              "       -2.22419769e-01,  2.06983522e-01,  4.50172335e-01,  1.95635021e-01,\n",
              "        7.22133368e-03,  7.06086218e-01,  6.82602048e-01, -3.35966080e-01,\n",
              "        4.75640953e-01,  3.38768691e-01, -1.90573201e-01, -1.12145948e+00,\n",
              "       -4.32029888e-02, -1.56870678e-01,  4.73269597e-02,  3.38264823e-01,\n",
              "       -4.73710358e-01, -2.87371367e-01, -6.14656471e-02,  3.93012241e-02,\n",
              "       -9.84509289e-02,  5.61636221e-03,  2.15944827e-01, -3.90441045e-02,\n",
              "       -7.03861117e-01,  1.26936480e-01,  2.32844744e-02,  3.95275384e-01,\n",
              "       -6.29368365e-01,  3.81536633e-02,  1.70966715e-01,  5.68101346e-01,\n",
              "        3.44137251e-01, -3.54945362e-01, -6.42791212e-01,  3.69599909e-02,\n",
              "        4.56914216e-01, -4.81999695e-01, -1.08039066e-01, -3.91956419e-01,\n",
              "       -4.10034321e-03,  1.90877765e-01,  4.32798296e-01,  4.64556754e-01,\n",
              "       -1.09929040e-01,  4.95212883e-01,  3.35495085e-01,  9.19853985e-01,\n",
              "        1.60181612e-01, -3.24443430e-01, -2.13523656e-01, -2.57019699e-01,\n",
              "       -9.23125893e-02,  3.47399533e-01,  1.76728480e-02, -6.76497340e-01,\n",
              "        2.30421275e-02,  3.04452211e-01, -3.35733056e-01, -3.64999413e-01,\n",
              "        2.54926294e-01, -3.78134195e-03, -2.61938155e-01,  4.59397808e-02,\n",
              "       -5.98169029e-01,  1.34261757e-01, -2.98325345e-03, -2.02114061e-01,\n",
              "       -3.15182090e-01, -4.79585528e-01, -5.52915454e-01, -6.71898961e-01,\n",
              "       -5.31220138e-01,  4.36104774e-01,  2.09883481e-01,  4.80143875e-02,\n",
              "        1.39079913e-01, -1.47947717e+00,  5.66853464e-01,  6.15151584e-01,\n",
              "       -3.56206954e-01, -2.63006806e-01,  1.01352353e-02, -6.43102825e-01,\n",
              "        2.58244634e-01,  2.32511103e-01,  4.64122325e-01, -2.44038567e-01,\n",
              "        4.84117866e-01, -3.53590965e-01, -2.42070541e-01,  7.80022442e-01,\n",
              "       -4.30729479e-01, -2.18240768e-01,  5.32291532e-02, -2.59028077e-01,\n",
              "        4.95914817e-02, -7.91404009e-01, -9.06887278e-03,  6.38763368e-01,\n",
              "        4.24307704e-01, -1.31179303e-01, -4.59278226e-01,  3.56200635e-01,\n",
              "       -1.75913885e-01,  3.44452858e-02,  5.73056519e-01,  6.46476209e-01,\n",
              "       -3.10187012e-01, -2.63747424e-01,  1.71437979e-01,  4.31292534e-01,\n",
              "        2.61797935e-01, -5.92406690e-01,  1.16353869e-01, -1.67204902e-01,\n",
              "        1.51265875e-01,  2.25872502e-01,  5.90591431e-01, -3.84858489e-01,\n",
              "        7.62636483e-01,  3.75622272e-01, -2.16537006e-02,  2.61046737e-03,\n",
              "       -1.22947738e-01, -1.42602921e-01, -5.58467507e-01,  1.84802130e-01,\n",
              "        1.34969234e-01, -3.00817460e-01, -1.40653580e-01, -2.84047067e-01,\n",
              "        3.68141770e-01, -7.88776726e-02,  8.16221312e-02,  3.53941381e-01,\n",
              "        7.25304842e-01, -1.98858872e-01, -9.37021151e-02, -2.47795194e-01,\n",
              "        1.00953467e-02, -4.40253019e-01,  8.03754926e-02,  8.61830056e-01,\n",
              "       -2.80022562e-01,  2.43793637e-01, -2.55486578e-01, -6.22628152e-01,\n",
              "        8.91299725e-01, -3.78195852e-01,  4.81684536e-01, -1.31669745e-01,\n",
              "       -9.29353684e-02, -2.27651983e-01, -2.18560785e-01,  2.51978695e-01,\n",
              "       -4.14544314e-01,  6.38253987e-01, -2.09495768e-01, -2.63460517e-01,\n",
              "        1.16116717e-01, -2.14023888e-01, -2.03425009e-02, -3.07719171e-01,\n",
              "        4.89083648e-01, -5.23291230e-01, -2.68585980e-01, -2.40036190e-01,\n",
              "       -1.06200159e+00,  1.88377462e-02, -1.60929099e-01, -1.01985919e+00,\n",
              "        5.90836763e-01, -6.42786980e-01, -8.47216472e-02, -3.06485087e-01,\n",
              "        8.82112026e-01, -2.22462147e-01,  6.53648734e-01,  1.32981032e-01,\n",
              "       -7.89770707e-02,  1.58833951e-01,  5.28012961e-02, -5.36138773e-01,\n",
              "        3.76914501e-01, -1.95731044e-01, -1.05869627e+00,  1.22580147e+00,\n",
              "       -4.32512999e-01,  1.56180114e-01,  4.17976528e-01,  5.06608307e-01,\n",
              "        3.00548047e-01, -1.15750574e-01, -1.31255820e-01,  2.43952692e-01,\n",
              "        3.04259628e-01, -1.83684707e-01, -2.73578048e-01,  2.48490244e-01,\n",
              "       -5.74733257e-01,  1.66123942e-01,  8.01433980e-01, -7.78994322e-01,\n",
              "        3.50740403e-01,  9.98899806e-03, -1.67533398e-01, -1.51206739e-03,\n",
              "        6.18820846e-01, -9.38167632e-01, -7.05288649e-01,  3.10599953e-01,\n",
              "       -4.72783446e-01, -2.59112939e-03, -5.65325245e-02, -2.70520926e-01,\n",
              "       -8.73121619e-02, -2.50815690e-01,  7.15851605e-01, -4.99997288e-01,\n",
              "        8.42951238e-01, -3.66681248e-01,  5.70344746e-01,  3.78284991e-01,\n",
              "       -4.06488031e-01,  2.36988798e-01,  1.88772619e-01, -2.41789415e-01,\n",
              "        2.68503010e-01, -6.70117855e-01, -5.28158247e-01, -6.28461957e-01,\n",
              "        5.09836078e-01, -1.22896917e-02,  1.33168697e-01,  4.49765682e-01,\n",
              "        6.74466372e-01,  5.70162475e-01,  2.45731428e-01,  4.01135474e-01,\n",
              "       -9.42872047e-01,  1.56790718e-01, -1.69289783e-01,  1.17978267e-02,\n",
              "        3.04226637e-01, -3.04854512e-01, -3.91244143e-02, -3.05514038e-02,\n",
              "       -7.21113384e-01,  1.06757367e+00,  3.00460637e-01,  4.18399334e-01,\n",
              "        8.31746101e-01,  4.51772660e-01,  3.79973173e-01,  3.88880447e-02,\n",
              "        6.57028079e-01,  7.25771546e-01, -3.14088672e-01, -3.59059751e-01,\n",
              "        1.83104128e-01, -1.54706061e-01, -5.56595266e-01,  9.98494506e-01,\n",
              "       -6.66046962e-02, -6.32119060e-01, -4.20218855e-01,  7.07992554e-01,\n",
              "       -2.81464577e-01,  1.29890323e-01,  4.32142705e-01,  1.84356943e-01,\n",
              "        1.45688906e-01,  3.84362698e-01,  7.92328179e-01, -5.64118981e-01,\n",
              "       -1.06446415e-01,  5.07816374e-01,  6.34553075e-01, -4.61483032e-01,\n",
              "        2.33549047e-02, -2.44355217e-01,  2.96670962e-02,  3.87939066e-01,\n",
              "       -5.09566784e+00,  3.25123519e-01,  2.70958841e-01, -2.45784223e-01,\n",
              "        5.20607114e-01, -2.59496748e-01,  2.26687565e-01,  4.12778795e-01,\n",
              "       -9.39293027e-01, -3.45667988e-01, -2.12368742e-01, -2.65309930e-01,\n",
              "        9.28743899e-01,  1.25976339e-01,  4.61863905e-01, -1.70685992e-01,\n",
              "        2.99389884e-02, -1.23116553e-01, -3.72413635e-01,  7.04001546e-01,\n",
              "       -8.60568464e-01, -3.96888733e-01,  1.74347460e-01,  3.43549103e-02,\n",
              "        2.94832915e-01, -5.51686138e-02, -9.04102504e-01,  5.14416218e-01,\n",
              "       -5.95655143e-01, -8.28736603e-01, -3.05773824e-01, -4.44463462e-01,\n",
              "        2.46776029e-01,  2.60025054e-01, -3.76847945e-02, -2.72340238e-01,\n",
              "       -3.23043317e-01, -1.95683300e-01,  1.35771692e+00,  2.64337391e-01,\n",
              "       -3.37069035e-01,  2.24706277e-01,  1.42332986e-02,  6.10763252e-01,\n",
              "        6.25047207e-01, -2.88990531e-02, -1.12058505e-01,  6.25596493e-02,\n",
              "        9.25823748e-02,  3.06361169e-01,  6.45154357e-01, -3.09155792e-01,\n",
              "        1.95047066e-01, -4.13476795e-01,  1.58219144e-01,  2.78787948e-02,\n",
              "        2.99770653e-01,  4.09382015e-01, -1.60664514e-01, -5.25604129e-01,\n",
              "        9.30768438e-03, -2.23912060e-01, -7.08211541e-01,  7.54812121e-01,\n",
              "        1.37300044e-01, -6.34858191e-01, -3.26267809e-01, -6.11436307e-01,\n",
              "       -1.08045787e-01,  4.68448728e-01, -1.36659935e-01, -3.57978307e-02,\n",
              "       -4.62620594e-02, -1.34921622e+00, -6.69132769e-01, -7.68020451e-02,\n",
              "       -1.38481677e-01, -6.91290021e-01,  3.45081240e-01,  2.06307650e-01,\n",
              "        4.06489938e-01,  2.18173817e-01,  4.89817083e-01, -2.52893329e-01,\n",
              "       -3.96638989e-01, -1.33451996e-02,  2.86451161e-01, -8.36114943e-01,\n",
              "       -5.79416811e-01,  1.55947089e-01,  1.87060665e-02,  2.27967232e-01,\n",
              "        8.22064281e-01, -5.46190739e-02,  2.38469213e-01, -1.75591856e-02,\n",
              "       -1.40485447e-02, -5.42532265e-01,  5.88290691e-01, -4.79510367e-01,\n",
              "        4.75604862e-01,  1.37693420e-01,  2.97962874e-01, -1.64478086e-02,\n",
              "        1.56845734e-01, -1.74292520e-01, -3.28885913e-01, -2.70645283e-02,\n",
              "       -5.12318254e-01,  5.36372960e-01,  4.98791218e-01, -6.76409125e-01,\n",
              "        8.93730819e-01, -4.10579145e-01, -4.41286027e-01,  6.65355980e-01,\n",
              "       -3.68789077e-01, -3.10680687e-01,  5.77251017e-02,  1.66270919e-02,\n",
              "       -4.36823845e-01, -1.98796391e-01, -8.38395536e-01, -2.75925398e-01,\n",
              "        5.70901096e-01,  6.07050247e-02, -3.96038115e-01, -2.19095536e-02,\n",
              "       -4.66383189e-01,  3.16350698e-01,  3.00775528e-01, -8.25267509e-02,\n",
              "       -4.54364717e-01, -1.05746873e-01,  4.99332488e-01,  8.06269944e-02,\n",
              "       -1.68477654e-01, -3.27079684e-01,  2.79850841e-01,  4.51276630e-01,\n",
              "       -3.34586878e-03, -2.96769887e-01, -5.84577620e-01,  6.74266666e-02,\n",
              "       -3.56905252e-01,  6.97352231e-01, -6.37851775e-01, -3.46739769e-01,\n",
              "        5.98458230e-01,  3.27907383e-01, -4.81115699e-01, -1.78168863e-02,\n",
              "       -7.48056293e-01,  2.23825261e-01,  1.81035295e-01, -1.53702557e-01,\n",
              "        2.95592695e-01, -4.90509421e-01,  1.84494197e-01, -5.78599453e-01,\n",
              "        1.71369672e-01,  1.13210216e-01,  9.76380289e-01,  5.20987153e-01,\n",
              "       -5.42624652e-01,  1.49070203e+00, -4.90358263e-01,  2.38199681e-01,\n",
              "       -6.42929435e-01,  9.76576656e-03,  1.56221732e-01, -5.42557061e-01,\n",
              "       -5.47102928e-01,  6.85658991e-01, -4.22479808e-01,  4.70375746e-01,\n",
              "       -3.19047868e-01, -3.62099595e-02,  1.75793976e-01,  5.44761658e-01,\n",
              "        1.60018355e-02, -4.30535711e-02,  1.54864132e-01,  1.00401556e-02,\n",
              "        3.79648060e-01, -3.30429524e-01, -1.16250709e-01,  1.11685447e-01,\n",
              "        1.51155680e-01,  4.47435915e-01,  2.70549208e-01, -1.90932661e-01,\n",
              "       -1.18700685e-02,  2.20542148e-01,  2.91370124e-01, -1.84318617e-01,\n",
              "        5.94494283e-01, -1.68890655e-02,  6.41707897e-01,  4.78895426e-01,\n",
              "       -1.35716230e-01, -4.05711919e-01,  2.57225096e-01,  4.18811701e-02,\n",
              "        5.48229158e-01,  4.98181969e-01, -4.17168111e-01,  2.22166151e-01,\n",
              "       -3.69365096e-01, -9.92967337e-02,  1.18943993e-02,  9.73990634e-02,\n",
              "       -1.08804893e+00, -4.28478748e-01,  7.89450780e-02,  2.50574380e-01,\n",
              "        3.26776981e-01,  1.27974093e-01, -3.93072397e-01,  1.37819320e-01,\n",
              "       -8.86016339e-02, -3.02932382e-01, -3.75452310e-01,  1.14451602e-01,\n",
              "       -2.49078512e-01,  1.02986073e+00,  1.28854513e-02,  3.69055480e-01,\n",
              "       -4.02409613e-01,  4.51250702e-01, -2.32556835e-03, -2.73789495e-01,\n",
              "        4.64412093e-01,  1.09470963e-01,  1.92111477e-01,  1.90633923e-01,\n",
              "       -2.85270810e-03, -7.61587262e-01,  5.51084936e-01, -2.97583371e-01,\n",
              "       -3.14068079e-01, -5.06550372e-01, -8.09793890e-01,  8.66281763e-02,\n",
              "        1.05637893e-01, -2.30639383e-01,  3.99135612e-02,  9.17639583e-02,\n",
              "        1.72693163e-01,  5.10256112e-01, -6.98357373e-02,  1.74076095e-01,\n",
              "       -7.95518234e-02,  4.77045774e-02, -1.08657151e-01, -6.01286292e-01,\n",
              "       -4.80153322e-01, -3.36467654e-01,  3.23292434e-01,  2.46853516e-01,\n",
              "       -6.61451280e-01,  1.04187340e-01, -8.73297811e-01,  7.28584230e-01,\n",
              "        2.07722962e-01, -5.65804482e-01,  7.20600367e-01,  6.61041811e-02,\n",
              "        5.05186796e-01, -4.61345404e-01,  7.55366325e-01, -3.02060872e-01,\n",
              "        3.25518310e-01, -2.87930071e-02, -2.03581482e-01, -6.31706178e-01,\n",
              "       -1.34502292e-01, -9.36798990e-01,  5.96047938e-01, -1.48151338e-01,\n",
              "       -3.60356778e-01,  3.18801820e-01,  3.46438706e-01,  3.39908898e-02,\n",
              "       -2.35102177e-02,  2.02884361e-01, -2.27293223e-01, -3.86504114e-01,\n",
              "       -4.69509661e-01, -8.23506594e-01,  3.42901677e-01,  2.59830374e-02,\n",
              "       -1.63531750e-01,  7.20670044e-01, -2.44556427e-01,  4.09897983e-01,\n",
              "       -3.54663059e-02, -1.49890512e-01,  7.06514120e-02,  1.04205236e-01,\n",
              "        4.01475728e-02,  1.10258430e-01,  2.44276240e-01,  4.83493388e-01,\n",
              "        6.38711378e-02,  2.57362369e-02, -4.94440913e-01, -4.42099392e-01,\n",
              "        8.91103268e-01, -1.41584828e-01,  2.30833739e-01,  8.95360112e-02,\n",
              "        2.84394085e-01,  4.05947000e-01, -5.47499418e-01, -4.79591310e-01,\n",
              "        4.43911493e-01, -4.67122495e-01, -5.90442061e-01,  2.08943009e-01,\n",
              "        4.00534481e-01, -2.51210034e-01,  3.27977747e-01, -2.71054238e-01,\n",
              "        8.41553092e-01,  3.81588966e-01, -1.10229445e+00, -3.80530149e-01,\n",
              "        2.52161413e-01,  9.49076533e-01,  6.17842749e-02,  2.22278446e-01,\n",
              "       -8.49525630e-02,  1.34939834e-01,  3.53744000e-01,  3.87098074e-01,\n",
              "       -4.02409613e-01,  3.56720567e-01, -2.47163668e-01, -6.05630755e-01,\n",
              "       -2.51164556e-01, -1.74031913e-01,  1.70265809e-01,  1.73505712e-02,\n",
              "        9.11455452e-02, -7.20608830e-01,  2.29764104e-01, -4.32361923e-02,\n",
              "        2.11554736e-01,  1.19739532e+00,  1.59491971e-01, -7.39008367e-01,\n",
              "       -3.97460073e-01, -9.46618021e-01,  2.90421665e-01,  6.29969358e-01,\n",
              "        7.69779325e-01,  2.48224922e-02, -2.30727702e-01,  7.24617302e-01,\n",
              "       -3.36211175e-01, -2.80784331e-02, -7.17534199e-02, -6.34107530e-01,\n",
              "       -5.18057287e-01,  6.26521766e-01, -1.09302473e+00, -1.09138393e+00,\n",
              "       -3.67361337e-01,  5.28020620e-01,  8.45073089e-02, -4.83847074e-02,\n",
              "        6.24053895e-01,  2.59496093e-01, -1.59254253e-01, -1.82488590e-01,\n",
              "       -8.21157634e-01,  6.00645900e-01, -2.32976705e-01, -6.18039966e-01,\n",
              "        2.63902098e-01,  2.02760380e-02, -4.91833568e-01, -1.05306172e+00,\n",
              "        1.61304511e-03, -5.65239310e-01,  5.02529740e-01,  1.12662114e-01,\n",
              "       -2.48244613e-01, -2.28320137e-01, -6.37243330e-01, -2.92578876e-01,\n",
              "        3.23445529e-01, -2.60714024e-01,  6.83391392e-01,  4.15912867e-01,\n",
              "       -7.04911292e-01,  2.93709099e-01,  6.18630111e-01,  8.76966000e-01,\n",
              "        1.91211343e-01,  4.00343016e-02,  2.30685323e-02,  6.14983797e-01,\n",
              "       -2.26738825e-01, -3.46643209e-01, -1.01844974e-01,  4.94522750e-02,\n",
              "       -5.07168889e-01,  4.38314006e-02,  2.11273551e-01,  6.85974836e-01,\n",
              "       -4.53038424e-01,  9.65898395e-01, -1.86698139e-01, -7.04726398e-01,\n",
              "        3.83173525e-01,  1.27184093e-01, -2.15741619e-03, -5.13963819e-01,\n",
              "        1.98372588e-01, -2.15957955e-01, -3.33083898e-01,  3.61137182e-01,\n",
              "       -7.36761928e-01, -5.44081509e-01, -9.58240032e-01,  4.29284107e-03,\n",
              "       -1.55386880e-01,  2.23636195e-01, -1.09440124e+00, -2.90418297e-01,\n",
              "        1.64769575e-01,  1.28032184e+00, -4.93148118e-01,  2.22359076e-01,\n",
              "       -8.68633613e-02, -3.48528087e-01,  1.71595231e-01, -3.73098910e-01,\n",
              "        1.18067600e-01,  5.35374939e-01,  4.19967264e-01,  5.87412179e-01,\n",
              "        2.93206245e-01, -4.63824004e-01,  1.22145221e-01, -2.63021491e-03,\n",
              "        7.73964077e-03, -5.36711693e-01,  5.76291144e-01,  1.71324909e-01,\n",
              "        2.32046872e-01, -5.25719300e-02, -1.65185735e-01,  4.42102253e-02,\n",
              "        1.93825096e-01, -4.25719380e-01, -1.00089610e+00,  1.06256105e-01],\n",
              "      dtype=float32)>"
            ]
          },
          "metadata": {
            "tags": []
          },
          "execution_count": 29
        }
      ]
    },
    {
      "cell_type": "code",
      "metadata": {
        "colab": {
          "base_uri": "https://localhost:8080/"
        },
        "id": "mntbb3cgYCB2",
        "outputId": "0e99fd4f-cee2-4865-c6f9-45c0b53e1f87"
      },
      "source": [
        "print(text_clean)"
      ],
      "execution_count": 36,
      "outputs": [
        {
          "output_type": "stream",
          "text": [
            "preprocessed corpus consequently next step build target variable basically\n"
          ],
          "name": "stdout"
        }
      ]
    },
    {
      "cell_type": "code",
      "metadata": {
        "id": "LcqJyJg5XnT_"
      },
      "source": [
        "## function to apply\n",
        "def utils_bert_embedding(txt, tokenizer, nlp):\n",
        "    idx = tokenizer.encode(txt)\n",
        "    idx = np.array(idx)[None,:]  \n",
        "    embedding = nlp(idx)\n",
        "    X = np.array(embedding[0][0][1:-1])\n",
        "    return X\n",
        "## create list of news vector\n",
        "##lst_mean_vecs = [utils_bert_embedding(txt, tokenizer, nlp).mean(0) \n",
        "#                 for txt in dtf[\"text_clean\"]]\n",
        "## create the feature matrix (n news x 768)\n",
        "#X = np.array(lst_mean_vecs)\n",
        "mean_vec = utils_bert_embedding(text_clean, tokenizer, nlp).mean(0)"
      ],
      "execution_count": 42,
      "outputs": []
    },
    {
      "cell_type": "code",
      "metadata": {
        "colab": {
          "base_uri": "https://localhost:8080/"
        },
        "id": "QPcq1j-_X-Jd",
        "outputId": "38e2fc5f-1d29-47d5-c0f8-3231bdb0312f"
      },
      "source": [
        "mean_vec"
      ],
      "execution_count": 43,
      "outputs": [
        {
          "output_type": "execute_result",
          "data": {
            "text/plain": [
              "array([-2.97941893e-01, -3.24873954e-01,  2.71756649e-01, -1.92078099e-01,\n",
              "        3.37075233e-01,  7.63574010e-03,  2.96800584e-01,  4.13517922e-01,\n",
              "        1.25400215e-01, -3.27635556e-01, -1.02113359e-01, -1.19906552e-01,\n",
              "       -2.28428006e-01,  3.24692816e-01, -3.62101883e-01,  1.54968500e-01,\n",
              "       -5.77161200e-02, -1.30803669e-02,  3.33321333e-01,  8.60894565e-03,\n",
              "        2.08776370e-01, -3.31259578e-01, -6.44524813e-01,  5.75353019e-02,\n",
              "        7.35732138e-01, -4.23924178e-01, -1.68876782e-01, -3.24280500e-01,\n",
              "       -7.42046893e-01,  5.74545749e-02, -3.62124473e-01,  3.88969153e-01,\n",
              "        6.52799085e-02, -4.25466001e-02, -5.05130226e-03,  3.13918859e-01,\n",
              "        1.81166932e-01,  3.20932120e-01, -2.66320705e-01,  6.90403059e-02,\n",
              "       -3.74672771e-01, -4.71886069e-01,  1.07147349e-02, -7.51571059e-02,\n",
              "       -4.49765950e-01, -3.08078378e-01,  1.71110153e-01,  1.78092822e-01,\n",
              "       -9.05257389e-02, -5.08079678e-02, -9.24688816e-01,  2.77273208e-01,\n",
              "       -2.51149237e-01,  3.76344733e-02, -6.04255795e-02,  4.48674828e-01,\n",
              "        3.41016054e-01, -7.52993166e-01,  2.76458710e-02, -1.70651853e-01,\n",
              "        3.96778315e-01, -1.54671505e-01,  2.72666305e-01,  1.42486393e-01,\n",
              "        4.64761645e-01, -2.99966067e-01,  4.71908748e-02,  2.89106578e-01,\n",
              "       -6.99571788e-01, -4.49953191e-02, -6.71688795e-01,  2.24727944e-01,\n",
              "       -1.48205653e-01,  1.47125408e-01, -2.12234363e-01,  3.39128733e-01,\n",
              "       -3.31268042e-01,  1.75194666e-01,  6.03056438e-02, -6.71552643e-02,\n",
              "       -7.20715448e-02,  3.20721507e-01, -6.46047667e-02,  1.15925349e-01,\n",
              "        4.98877853e-01,  6.92799017e-02,  1.47444740e-01, -1.10851564e-01,\n",
              "       -7.66127288e-01,  6.14630401e-01,  1.61998123e-01, -4.91170436e-01,\n",
              "       -2.65930861e-01,  3.01332921e-01,  4.64995980e-01,  4.58666682e-01,\n",
              "       -3.15949172e-01,  2.70551234e-01,  2.91378170e-01,  2.07346633e-01,\n",
              "       -6.23119324e-02, -4.87071991e-01, -7.24076405e-02,  3.08521748e-01,\n",
              "       -1.83509588e-01,  8.82043596e-03, -3.96096557e-01,  4.29111600e-01,\n",
              "        2.01432228e-01,  5.44238031e-01,  1.94501445e-01, -1.53073594e-01,\n",
              "       -1.09870456e-01, -2.88711667e-01, -6.59145340e-02,  1.50585160e-01,\n",
              "       -2.40809023e-01, -1.70574918e-01, -1.48763075e-01, -4.79733944e-01,\n",
              "       -1.32415174e-02,  3.63977820e-01,  1.12960517e-01,  1.24665844e+00,\n",
              "        6.96228221e-02,  6.60146773e-01, -1.41150102e-01,  8.13159943e-01,\n",
              "        2.80168533e-01, -1.85022905e-01,  1.33433118e-01,  3.63946110e-01,\n",
              "        6.69171035e-01,  1.38072269e-02, -2.66079396e-01, -4.65762615e-02,\n",
              "        2.81961292e-01,  1.08314395e-01,  2.90889535e-02, -3.56676579e-01,\n",
              "       -1.75477520e-01, -2.81427383e-01,  8.46446097e-01, -7.94077516e-02,\n",
              "        3.36908787e-01,  1.62776262e-01, -1.81111693e-02,  2.64268424e-02,\n",
              "       -6.26782402e-02,  7.02165663e-01,  1.22951031e-01,  4.23863441e-01,\n",
              "       -4.39567417e-01, -7.90091753e-02, -7.54162490e-01,  1.69993281e-01,\n",
              "        2.78839190e-02,  1.04692809e-01, -2.84619331e-01,  2.83620387e-01,\n",
              "        5.76653481e-01,  1.28566265e-01, -1.97937950e-01, -4.90967780e-02,\n",
              "        1.17313586e-01, -1.40976384e-01,  8.10180753e-02,  3.29490125e-01,\n",
              "        6.93012029e-03, -3.54225248e-01, -2.76874870e-01,  9.10857543e-02,\n",
              "        4.48359102e-01,  1.21604837e-01,  4.01190035e-02,  9.73137021e-02,\n",
              "        3.32106143e-01, -5.06326139e-01,  9.32236537e-02,  5.59345186e-02,\n",
              "       -3.06714982e-01,  9.94635761e-01, -1.93395257e-01, -6.43289238e-02,\n",
              "       -1.67637751e-01,  3.04442137e-01,  1.70249864e-01, -6.76470339e-01,\n",
              "        2.19598368e-01, -5.67167215e-02, -4.88425374e-01, -1.39179721e-01,\n",
              "       -8.14051628e-01, -3.34635824e-01,  6.38390243e-01, -5.11439145e-01,\n",
              "       -3.88695560e-02, -9.12343562e-02, -3.36993068e-01,  2.80522425e-02,\n",
              "        2.88156062e-01,  1.89075664e-01,  3.81012946e-01, -2.04369500e-01,\n",
              "       -2.40692079e-01, -6.58294737e-01, -4.67314422e-02, -8.87314752e-02,\n",
              "       -3.05037409e-01,  4.09829170e-01, -4.37302977e-01,  9.86301422e-01,\n",
              "       -1.04694538e-01,  9.23525915e-02,  1.01100802e-01, -1.43643320e-01,\n",
              "       -6.75356612e-02, -3.79521698e-01,  1.13105059e-01, -1.29790485e-01,\n",
              "       -3.97341736e-02, -1.13423817e-01, -4.05719846e-01,  4.61951762e-01,\n",
              "       -8.30353439e-01,  8.90082777e-01,  2.24604651e-01, -4.94733810e-01,\n",
              "        2.46372417e-01,  2.00230372e-03,  2.08567798e-01, -1.26306647e-02,\n",
              "        7.86992535e-02, -1.85059965e-01, -1.68572500e-01,  2.49501750e-01,\n",
              "       -3.75131994e-01, -7.70896152e-02,  1.55042753e-01, -8.89802203e-02,\n",
              "       -2.72145346e-02,  4.79656339e-01,  7.02448130e-01, -5.44444203e-01,\n",
              "        2.15721920e-01, -5.36978960e-01,  6.31178394e-02,  2.36462995e-01,\n",
              "       -1.86055675e-01, -3.91955048e-01, -4.42910641e-01, -2.25890815e-01,\n",
              "        1.40586391e-01, -7.93428183e-01, -1.34817824e-01, -1.92141354e-01,\n",
              "       -4.17196721e-01, -1.60393909e-01, -2.06795767e-01,  3.41763586e-01,\n",
              "        1.30552771e-02,  2.04233527e-01,  4.06015426e-01,  1.89928234e-01,\n",
              "       -2.36684039e-01, -5.06469369e-01, -9.59967598e-02,  4.07554835e-01,\n",
              "        3.10030818e-01,  8.98133442e-02, -1.16457820e-01, -5.54441988e-01,\n",
              "       -1.26354918e-01,  7.23633766e-01, -3.82325739e-01, -1.57497674e-01,\n",
              "       -1.78181395e-01,  1.50535718e-01,  3.08750812e-02, -4.70378846e-01,\n",
              "        9.15937126e-04,  6.65192783e-01, -3.55285555e-01, -1.65937141e-01,\n",
              "       -7.02030808e-02, -6.39953792e-01, -2.38384351e-01,  8.67393240e-02,\n",
              "       -1.99928805e-01, -5.62962532e-01, -2.63522953e-01,  2.70799667e-01,\n",
              "       -6.83365643e-01, -5.57706542e-02,  5.14570534e-01,  3.12268734e-01,\n",
              "        3.27009618e-01,  1.71585247e-01, -4.89407569e-01, -5.10472715e-01,\n",
              "       -3.68309498e-01,  6.61334535e-03,  1.20412640e-01,  1.26616761e-01,\n",
              "       -5.10308385e-01, -2.99770925e-02, -2.07522869e-01, -6.29732460e-02,\n",
              "       -4.03097773e+00, -2.36713588e-01, -3.56117249e-01, -1.27702475e-01,\n",
              "        3.43306810e-01, -4.23036367e-01, -1.36282682e-01, -1.52190290e-02,\n",
              "       -1.27446517e-01,  2.67355323e-01,  7.43390322e-02, -3.75859827e-01,\n",
              "       -2.05425203e-01,  5.08495390e-01,  2.76825339e-01,  1.17853515e-01,\n",
              "        2.55663514e-01,  2.94456095e-01, -3.50071758e-01,  4.30721045e-01,\n",
              "       -1.58406451e-01, -6.76125288e-01,  1.70319512e-01, -2.82609701e-01,\n",
              "        3.86630893e-01,  4.96639013e-02, -4.08560604e-01,  4.34137553e-01,\n",
              "       -2.77459204e-01, -5.45668542e-01,  1.48996189e-01, -1.63819894e-01,\n",
              "        4.43879694e-01,  1.97208032e-01, -3.19507599e-01,  1.36500463e-01,\n",
              "        1.57437608e-01, -6.02124818e-02,  1.32574394e-01, -2.89529115e-01,\n",
              "       -1.18622325e-01, -4.02526408e-01,  3.69860940e-02, -5.05522311e-01,\n",
              "        4.43652958e-01, -4.01869327e-01, -1.05450124e-01, -7.81845227e-02,\n",
              "        8.84485170e-02,  1.96263507e-01, -3.12999845e-01, -1.78924620e-01,\n",
              "       -3.38175535e-01, -2.32292652e-01, -5.39146662e-02, -2.81497389e-01,\n",
              "        2.79125959e-01,  4.97327715e-01, -7.30133593e-01,  6.83720633e-02,\n",
              "        2.27204636e-01, -3.88053566e-01, -2.22010136e-01, -3.18320036e-01,\n",
              "       -1.77333638e-01, -1.26739278e-01, -7.40797222e-01, -3.00787538e-01,\n",
              "       -4.30937290e-01,  3.93002659e-01, -3.63229543e-01,  8.40822887e-03,\n",
              "       -4.36067671e-01, -8.09011996e-01, -1.70462057e-01, -1.69534206e-01,\n",
              "        2.15280667e-01, -2.85594705e-02,  1.87752172e-01, -5.57791531e-01,\n",
              "       -6.54087424e-01, -2.21041977e-01,  2.97799230e-01, -2.22858325e-01,\n",
              "        2.33149767e-01,  3.32502693e-01, -2.17112139e-01, -4.18581635e-01,\n",
              "       -2.42814466e-01, -2.80693080e-02,  5.60284436e-01, -1.94498718e-01,\n",
              "        4.24136668e-01,  2.19069734e-01,  1.16899900e-01,  4.93061058e-02,\n",
              "        5.08288324e-01, -4.31864828e-01,  1.08029731e-01, -2.48790562e-01,\n",
              "        2.10973665e-01, -2.05814645e-01,  1.69938222e-01, -2.79831309e-02,\n",
              "       -8.99386182e-02, -8.64322856e-02, -9.77489769e-01,  1.41514987e-01,\n",
              "        4.59752321e-01,  4.55890447e-01,  1.99480250e-01,  1.41620979e-01,\n",
              "        8.33801806e-01, -2.96568990e-01, -5.35028875e-01,  5.97616851e-01,\n",
              "        9.90561247e-02,  6.59345567e-01,  4.98628765e-02, -1.96497306e-01,\n",
              "       -1.82877898e-01,  3.10358018e-01, -6.07113123e-01, -4.94211197e-01,\n",
              "       -4.38797206e-01, -1.99059859e-01, -1.29098102e-01,  3.25394124e-01,\n",
              "       -2.53265858e-01, -1.79149672e-01, -4.16748047e-01, -3.78262848e-01,\n",
              "        3.98462191e-02,  4.14684504e-01,  5.26330769e-01, -4.18281436e-01,\n",
              "        9.09696240e-03,  2.72463828e-01,  1.35274539e-02, -3.86381410e-02,\n",
              "        1.04950480e-01,  1.71917900e-01,  2.06265390e-01, -1.79312184e-01,\n",
              "       -2.02629846e-02,  6.34867132e-01, -4.04411042e-03, -2.19433025e-01,\n",
              "       -2.37978119e-02,  6.51654303e-02, -1.46047175e-01, -5.95662653e-01,\n",
              "        1.84375539e-01, -1.69555500e-01, -2.97990534e-02, -3.91608030e-01,\n",
              "        1.25548780e-01, -3.75689059e-01,  6.91102743e-02, -7.73461878e-01,\n",
              "       -4.80036922e-02,  9.36801359e-02,  3.81054610e-01,  2.52576899e-02,\n",
              "       -1.29851013e-01,  7.03206062e-01, -9.96627137e-02,  1.03563577e-01,\n",
              "       -2.99871325e-01,  1.95167020e-01, -2.27739453e-01, -3.09739679e-01,\n",
              "        2.85613716e-01,  1.28249809e-01,  1.93492338e-01,  5.44382811e-01,\n",
              "        1.12491883e-01, -2.77643919e-01,  3.55349064e-01,  1.05432761e+00,\n",
              "        2.28147015e-01,  2.70081729e-01, -2.94962153e-02,  1.98097333e-01,\n",
              "        4.77245837e-01,  2.53260612e-01, -1.93128645e-01,  2.67253309e-01,\n",
              "       -2.29957756e-02,  7.06374571e-02, -7.46674061e-01,  3.01402479e-01,\n",
              "       -1.02672661e-02, -4.22667474e-01,  9.29543450e-02, -5.15670002e-01,\n",
              "        3.24622363e-01,  5.82731903e-01,  2.72966862e-01, -1.90003812e-01,\n",
              "        4.34412509e-01, -1.87503263e-01, -9.56533253e-02, -1.51979774e-01,\n",
              "        4.34665769e-01, -2.83176303e-02, -8.21136162e-02, -2.22413037e-02,\n",
              "        2.20883727e-01,  2.09493324e-01,  3.37174743e-01, -5.15580356e-01,\n",
              "       -5.08199036e-01, -5.65395057e-01,  2.46901989e-01, -9.35504735e-02,\n",
              "        2.74994165e-01, -2.64392227e-01, -3.84474367e-01,  1.09997191e-01,\n",
              "       -2.83203274e-01,  2.20381543e-01,  1.33839682e-01,  3.31096977e-01,\n",
              "        1.25395879e-01, -1.91605464e-01,  2.83787102e-01,  3.08167692e-02,\n",
              "       -2.35015154e-01, -1.43165827e-01,  2.04325035e-01, -4.56759542e-01,\n",
              "        2.98864156e-01,  5.52868433e-02,  3.61856699e-01, -4.25705999e-01,\n",
              "       -3.95969391e-01, -1.13538325e-01,  1.84188008e-01, -6.07332110e-01,\n",
              "       -4.53825355e-01, -2.94297766e-02, -2.21010432e-01, -4.74447459e-01,\n",
              "        3.10002774e-01,  2.95976400e-02, -9.87059474e-02,  4.13843244e-01,\n",
              "       -1.44359171e-01,  8.32215369e-01, -3.30909133e-01,  1.68063581e-01,\n",
              "       -1.97389588e-01, -5.34560494e-02,  3.41442436e-01, -6.61447108e-01,\n",
              "       -6.69951916e-01, -3.72493029e-01, -7.65711784e-01,  2.83583075e-01,\n",
              "        2.21367348e-02, -2.38212347e-01, -4.70822334e-01,  3.29175979e-01,\n",
              "        7.73890734e-01,  5.21593332e-01,  3.31161737e-01,  3.01048726e-01,\n",
              "        2.79495269e-01, -2.04519212e-01, -3.99212152e-01, -5.87370276e-01,\n",
              "        2.42657959e-01,  1.71636388e-01, -4.85198200e-02, -4.46349144e-01,\n",
              "       -2.51597881e-01, -9.98992696e-02,  5.24535537e-01,  1.07929468e-01,\n",
              "       -1.31995678e-01,  1.71952918e-01,  2.09807739e-01,  1.53886333e-01,\n",
              "        2.70028710e-01,  1.43894583e-01, -3.43076319e-01, -1.94504932e-01,\n",
              "        4.16057892e-02, -1.06074713e-01, -7.34673664e-02,  1.49464145e-01,\n",
              "       -1.39330134e-01, -1.15375154e-01, -2.00508371e-01,  5.14823139e-01,\n",
              "        3.41774195e-01,  8.34894106e-02, -2.08821461e-01,  2.99264163e-01,\n",
              "       -3.17905750e-03,  2.88984716e-01,  5.16123354e-01, -2.31246874e-01,\n",
              "       -1.56554818e-01,  3.10080677e-01,  1.17024660e-01,  8.64794757e-03,\n",
              "       -3.94332297e-02,  5.97188294e-01, -1.26764104e-01, -4.60160136e-01,\n",
              "        7.36358106e-01,  2.88827151e-01, -6.68308735e-01, -1.74092412e-01,\n",
              "        1.22562749e-02, -2.23585129e-01, -6.67118514e-03, -6.54436275e-02,\n",
              "       -1.55082315e-01,  3.26766580e-01,  7.61934578e-01, -1.93328876e-02,\n",
              "       -7.38957748e-02,  5.16136289e-01, -4.25659060e-01, -1.35962488e-02,\n",
              "       -2.34071419e-01, -8.79873708e-02, -4.43305671e-02,  1.25113264e-01,\n",
              "        5.43679111e-02,  1.76171586e-01, -6.26630604e-01, -2.33151689e-01,\n",
              "        4.82804537e-01,  3.80566001e-01,  2.37585887e-01, -1.35497630e-01,\n",
              "        8.51599514e-01,  2.20991984e-01,  2.03633562e-01,  3.44140410e-01,\n",
              "       -3.07681650e-01,  2.53407031e-01,  1.82146385e-01, -5.59256673e-02,\n",
              "        7.68085063e-01,  1.42911720e+00,  2.80262709e-01, -3.83493453e-02,\n",
              "        5.81735671e-02, -6.95257112e-02,  3.09442073e-01, -2.62892455e-01,\n",
              "        2.61177391e-01,  4.68090504e-01,  2.73696572e-01,  5.42240560e-01,\n",
              "       -4.21877019e-02,  3.20071168e-02, -2.34904662e-01, -6.11656368e-01,\n",
              "       -3.07175815e-01,  1.59558937e-01,  6.28802776e-01,  2.90832728e-01,\n",
              "       -1.17127083e-01, -1.40882535e-02, -1.39476731e-01,  9.31278989e-02,\n",
              "        6.73381165e-02, -1.90562811e-02,  7.49228373e-02, -1.83111563e-01,\n",
              "        5.08230738e-02,  2.20141247e-01, -5.65637708e-01, -3.94988984e-01,\n",
              "       -8.90239794e-03, -4.15082008e-01, -3.35513562e-01, -3.12283099e-01,\n",
              "       -4.22210932e-01, -3.32887918e-01, -1.01950727e-01, -6.88786954e-02,\n",
              "       -2.68040448e-01, -3.33114713e-01, -4.82041270e-01,  2.27247119e-01,\n",
              "        3.03606898e-01, -3.25113863e-01, -1.14089638e-01, -5.52666672e-02,\n",
              "       -2.04485700e-01,  2.08181486e-01,  5.68012536e-01,  2.03489721e-01,\n",
              "        1.74787655e-01, -2.20454097e-01, -1.11390747e-01, -6.35410519e-03,\n",
              "        1.70844004e-01,  2.70555049e-01, -2.59193271e-01,  3.45697254e-01,\n",
              "       -6.96248531e-01, -1.46573978e-02, -2.80113649e-02,  3.28209072e-01,\n",
              "       -3.26318175e-01, -1.10399701e-01, -2.40374152e-02,  1.36555955e-02,\n",
              "       -3.44130397e-02, -4.85386401e-02,  1.44223556e-01,  3.23037356e-01,\n",
              "       -4.56567854e-01,  3.65467742e-02,  2.98905164e-01,  1.13686629e-01,\n",
              "       -2.36946270e-01,  9.73068848e-02, -6.43177778e-02,  3.07141989e-01,\n",
              "       -3.78085896e-02, -2.38567472e-01,  3.38171452e-01,  1.22894309e-01,\n",
              "        5.54634213e-01,  9.83367562e-02,  1.55468404e-01, -2.16348648e-01,\n",
              "       -2.10694715e-01,  2.01556683e-01,  4.25226688e-02,  2.78274089e-01,\n",
              "       -4.15812433e-02,  2.18246952e-01,  2.74958789e-01,  2.38351181e-01,\n",
              "        2.83903509e-01,  3.05374712e-01,  1.91902712e-01, -2.42964253e-01,\n",
              "       -7.03904450e-01, -4.27710891e-01,  4.01979923e-01,  1.24408923e-01,\n",
              "       -1.15124382e-01, -3.34417701e-01,  1.55199720e-02,  1.87121436e-01,\n",
              "        9.15334225e-02, -4.89380687e-01, -1.49104863e-01, -1.26751408e-01],\n",
              "      dtype=float32)"
            ]
          },
          "metadata": {
            "tags": []
          },
          "execution_count": 43
        }
      ]
    }
  ]
}